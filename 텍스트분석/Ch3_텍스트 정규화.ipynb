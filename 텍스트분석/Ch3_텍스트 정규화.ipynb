{
 "cells": [
  {
   "cell_type": "markdown",
   "id": "stuck-tribune",
   "metadata": {},
   "source": [
    "## 8.3 Bag of Words - BOW  \n",
    "특징 추출은 분석에 중요도가 낮은 데이터를 없애주고, 변환과 노이즈에 강한 분석을 할 수 있게 하는 중요한 일.\n",
    "### sklearn - CountVectorizer\n",
    ": 각 텍스트에서 단위별 출현 횟수를 카운팅하여 수치벡터화함\n",
    "* 단위는 문서/문장/단어 정하는 대로"
   ]
  },
  {
   "cell_type": "code",
   "execution_count": 40,
   "id": "olive-insider",
   "metadata": {},
   "outputs": [
    {
     "name": "stdout",
     "output_type": "stream",
     "text": [
      "['Life is too short to be little', 'Life is full of ups and downs', 'Just try your hardest', 'Smooth waters run deep']\n",
      "4\n"
     ]
    }
   ],
   "source": [
    "text_1 = 'Life is too short to be little'\n",
    "\n",
    "text_2 = 'Life is full of ups and downs'\n",
    "\n",
    "text_3 = 'Just try your hardest'\n",
    "\n",
    "text_4 = 'Smooth waters run deep'\n",
    "\n",
    "text = []\n",
    "text.append(text_1)\n",
    "text.append(text_2)\n",
    "text.append(text_3)\n",
    "text.append(text_4)\n",
    "\n",
    "print(text)\n",
    "print(len(text))"
   ]
  },
  {
   "cell_type": "markdown",
   "id": "pleased-metro",
   "metadata": {},
   "source": [
    "#### CountVectorizer 객체 생성 후 fit(), transform()으로 텍스트에 대한 feature vectorization 수행"
   ]
  },
  {
   "cell_type": "code",
   "execution_count": 41,
   "id": "southeast-river",
   "metadata": {
    "scrolled": true
   },
   "outputs": [
    {
     "data": {
      "text/plain": [
       "CountVectorizer()"
      ]
     },
     "execution_count": 41,
     "metadata": {},
     "output_type": "execute_result"
    }
   ],
   "source": [
    "from sklearn.feature_extraction.text import CountVectorizer\n",
    "\n",
    "# Count Vectorization으로 feature extraction 변환 수행\n",
    "cnt_vect = CountVectorizer()\n",
    "cnt_vect.fit(text)"
   ]
  },
  {
   "cell_type": "code",
   "execution_count": 42,
   "id": "blond-cartridge",
   "metadata": {
    "scrolled": true
   },
   "outputs": [
    {
     "name": "stdout",
     "output_type": "stream",
     "text": [
      "20\n",
      "['and', 'be', 'deep', 'downs', 'full', 'hardest', 'is', 'just', 'life', 'little', 'of', 'run', 'short', 'smooth', 'to', 'too', 'try', 'ups', 'waters', 'your']\n"
     ]
    }
   ],
   "source": [
    "print(len(cnt_vect.get_feature_names()))\n",
    "print(cnt_vect.get_feature_names())  # 추출된 feature"
   ]
  },
  {
   "cell_type": "code",
   "execution_count": 43,
   "id": "still-grace",
   "metadata": {},
   "outputs": [
    {
     "name": "stdout",
     "output_type": "stream",
     "text": [
      "20\n",
      "{'life': 8, 'is': 6, 'too': 15, 'short': 12, 'to': 14, 'be': 1, 'little': 9, 'full': 4, 'of': 10, 'ups': 17, 'and': 0, 'downs': 3, 'just': 7, 'try': 16, 'your': 19, 'hardest': 5, 'smooth': 13, 'waters': 18, 'run': 11, 'deep': 2}\n"
     ]
    }
   ],
   "source": [
    "print(len(cnt_vect.vocabulary_))\n",
    "print(cnt_vect.vocabulary_) # 추출된 feature와 각각의 단어 번호"
   ]
  },
  {
   "cell_type": "code",
   "execution_count": 44,
   "id": "waiting-occasion",
   "metadata": {},
   "outputs": [],
   "source": [
    "ftr_vect = cnt_vect.transform(text)"
   ]
  },
  {
   "cell_type": "code",
   "execution_count": 45,
   "id": "interpreted-furniture",
   "metadata": {
    "scrolled": true
   },
   "outputs": [
    {
     "name": "stdout",
     "output_type": "stream",
     "text": [
      "<class 'scipy.sparse.csr.csr_matrix'> (4, 20)\n",
      "  (0, 1)\t1\n",
      "  (0, 6)\t1\n",
      "  (0, 8)\t1\n",
      "  (0, 9)\t1\n",
      "  (0, 12)\t1\n",
      "  (0, 14)\t1\n",
      "  (0, 15)\t1\n",
      "  (1, 0)\t1\n",
      "  (1, 3)\t1\n",
      "  (1, 4)\t1\n",
      "  (1, 6)\t1\n",
      "  (1, 8)\t1\n",
      "  (1, 10)\t1\n",
      "  (1, 17)\t1\n",
      "  (2, 5)\t1\n",
      "  (2, 7)\t1\n",
      "  (2, 16)\t1\n",
      "  (2, 19)\t1\n",
      "  (3, 2)\t1\n",
      "  (3, 11)\t1\n",
      "  (3, 13)\t1\n",
      "  (3, 18)\t1\n"
     ]
    }
   ],
   "source": [
    "## feature 벡터화 후 데이터 유형 및 여러 속성 확인\n",
    "# 희소행렬 문제 -> 각 텍스트에서 사용된 단어 인덱스와 개수만을 따로 저장\n",
    "print(type(ftr_vect), ftr_vect.shape)\n",
    "print(ftr_vect)"
   ]
  },
  {
   "cell_type": "code",
   "execution_count": 46,
   "id": "animal-moisture",
   "metadata": {},
   "outputs": [
    {
     "name": "stdout",
     "output_type": "stream",
     "text": [
      "<class 'scipy.sparse.csr.csr_matrix'> (4, 5)\n",
      "{'life': 4, 'downs': 1, 'just': 3, 'hardest': 2, 'deep': 0}\n",
      "  (0, 4)\t1\n",
      "  (1, 1)\t1\n",
      "  (1, 4)\t1\n",
      "  (2, 2)\t1\n",
      "  (2, 3)\t1\n",
      "  (3, 0)\t1\n"
     ]
    }
   ],
   "source": [
    "# max_features : 피처로 추출하는 피처의 개수 제한\n",
    "cnt_vect = CountVectorizer(max_features = 5, stop_words = 'english') # 횟수 많은 상위 5개\n",
    "cnt_vect.fit(text)\n",
    "ftr_vect = cnt_vect.transform(text)\n",
    "\n",
    "print(type(ftr_vect),ftr_vect.shape)\n",
    "print(cnt_vect.vocabulary_)\n",
    "print(ftr_vect)"
   ]
  },
  {
   "cell_type": "markdown",
   "id": "fresh-humanity",
   "metadata": {},
   "source": [
    "### ngram_range "
   ]
  },
  {
   "cell_type": "code",
   "execution_count": 47,
   "id": "suburban-sweden",
   "metadata": {},
   "outputs": [
    {
     "name": "stdout",
     "output_type": "stream",
     "text": [
      "<class 'scipy.sparse.csr.csr_matrix'> (4, 31)\n",
      "{'life is': 10, 'is too': 6, 'too short': 22, 'short to': 16, 'to be': 20, 'be little': 1, 'life is too': 12, 'is too short': 7, 'too short to': 23, 'short to be': 17, 'to be little': 21, 'is full': 4, 'full of': 2, 'of ups': 13, 'ups and': 26, 'and downs': 0, 'life is full': 11, 'is full of': 5, 'full of ups': 3, 'of ups and': 14, 'ups and downs': 27, 'just try': 8, 'try your': 24, 'your hardest': 30, 'just try your': 9, 'try your hardest': 25, 'smooth waters': 18, 'waters run': 28, 'run deep': 15, 'smooth waters run': 19, 'waters run deep': 29}\n"
     ]
    }
   ],
   "source": [
    "cnt_vect = CountVectorizer(ngram_range = (2,3)) # 2로도 하고, 3으로도 하고\n",
    "cnt_vect.fit(text)\n",
    "ftr_vect = cnt_vect.transform(text)\n",
    "\n",
    "print(type(ftr_vect),ftr_vect.shape)\n",
    "print(cnt_vect.vocabulary_)"
   ]
  },
  {
   "cell_type": "markdown",
   "id": "meaning-alarm",
   "metadata": {},
   "source": [
    "### 희소행렬 문제를 해결하기 위한 방법: COO, CSR 형식"
   ]
  },
  {
   "cell_type": "markdown",
   "id": "revolutionary-hungary",
   "metadata": {},
   "source": [
    "#### 희소행렬이란?  \n",
    "BOW의 CountVectorizer를 이용해 피처 벡터화를 하면 상당히 많은 0값이 메모리 공간에 할당되어 메모리 낭비가 심하며 연산시에도 데이터 접근을 하려면 많은 시간이 소요됨  \n",
    "\n",
    "대부분 값이 0으로 채워진 행렬 = 희소 행렬 (Sparse Matrix)  \n",
    "\n",
    "희소 행렬을 메모리 낭비가 적도록 변환하는 방법 : **COO 형식, CSR 형식**  \n",
    "=> scipy의 coo_matrix(), csr_matrix() 사용"
   ]
  },
  {
   "attachments": {
    "image.png": {
     "image/png": "[encoded data removed]"
    }
   },
   "cell_type": "markdown",
   "id": "pressing-humanitarian",
   "metadata": {},
   "source": [
    "![image.png](attachment:image.png)"
   ]
  },
  {
   "cell_type": "markdown",
   "id": "subjective-resistance",
   "metadata": {},
   "source": [
    "### COO 형식"
   ]
  },
  {
   "cell_type": "code",
   "execution_count": 1,
   "id": "national-sigma",
   "metadata": {},
   "outputs": [
    {
     "data": {
      "text/plain": [
       "array([[0, 0, 1, 0, 0, 5],\n",
       "       [1, 4, 0, 3, 2, 5]])"
      ]
     },
     "execution_count": 1,
     "metadata": {},
     "output_type": "execute_result"
    }
   ],
   "source": [
    "import numpy as np\n",
    "dense = np.array([[0,0,1,0,0,5],\n",
    "                 [1,4,0,3,2,5]])\n",
    "dense"
   ]
  },
  {
   "cell_type": "code",
   "execution_count": 6,
   "id": "alike-offering",
   "metadata": {},
   "outputs": [],
   "source": [
    "from scipy import sparse\n",
    "\n",
    "# 0이 아닌 데이터 추출\n",
    "data = [1,5,1,4,3,2,5]\n",
    "\n",
    "# 행 위치와 열 위치를 각각 array로 생성\n",
    "row_pos = np.array([0,0,1,1,1,1,1])\n",
    "col_pos = np.array([2,5,0,1,3,4,5])\n",
    "\n",
    "# sparse 패키지의 coo_matrix를 이용하여 COO형식으로 희소행렬 생성\n",
    "sparse_coo = sparse.coo_matrix((data, (row_pos, col_pos)))"
   ]
  },
  {
   "cell_type": "code",
   "execution_count": 5,
   "id": "engaging-collection",
   "metadata": {},
   "outputs": [
    {
     "name": "stdout",
     "output_type": "stream",
     "text": [
      "<class 'scipy.sparse.coo.coo_matrix'>\n",
      "  (0, 2)\t1\n",
      "  (0, 5)\t5\n",
      "  (1, 0)\t1\n",
      "  (1, 1)\t4\n",
      "  (1, 3)\t3\n",
      "  (1, 4)\t2\n",
      "  (1, 5)\t5\n",
      "<class 'numpy.ndarray'> \n",
      " [[0 0 1 0 0 5]\n",
      " [1 4 0 3 2 5]]\n"
     ]
    }
   ],
   "source": [
    "print(type(sparse_coo))\n",
    "print(sparse_coo)\n",
    "dense_1 = sparse_coo.toarray()\n",
    "print(type(dense_1), '\\n', dense_1)"
   ]
  },
  {
   "cell_type": "markdown",
   "id": "absent-washer",
   "metadata": {},
   "source": [
    "### CSR 형식"
   ]
  },
  {
   "cell_type": "code",
   "execution_count": 7,
   "id": "suited-remainder",
   "metadata": {},
   "outputs": [
    {
     "name": "stdout",
     "output_type": "stream",
     "text": [
      "COO 변환된 데이터가 제대로 되었는지 다시 Dense로 출력하여 확인\n",
      "[[0 0 1 0 0 5]\n",
      " [1 4 0 3 2 5]]\n",
      "CSR 변환된 데이터가 제대로 되었는지 다시 Dense로 출력하여 확인\n",
      "[[0 0 1 0 0 5]\n",
      " [1 4 0 3 2 5]]\n"
     ]
    }
   ],
   "source": [
    "from scipy import sparse\n",
    "\n",
    "# 0이 아닌 데이터 추출\n",
    "data = [1,5,1,4,3,2,5]\n",
    "\n",
    "# 행 위치와 열 위치를 각각 array로 생성\n",
    "row_pos = np.array([0,0,1,1,1,1,1])\n",
    "col_pos = np.array([2,5,0,1,3,4,5])\n",
    "\n",
    "# 행 위치 배열의 고유한 값들의 시작 위치 인덱스를 배열로 생성\n",
    "row_pos_idx = np.array([0,2,7])  # 7: 총 행 array의 개수\n",
    "\n",
    "# CSR 형식으로 변환\n",
    "sparse_csr = sparse.csr_matrix((data, col_pos, row_pos_idx))\n",
    "\n",
    "print('COO 변환된 데이터가 제대로 되었는지 다시 Dense로 출력하여 확인')\n",
    "print(sparse_coo.toarray())\n",
    "print('CSR 변환된 데이터가 제대로 되었는지 다시 Dense로 출력하여 확인')\n",
    "print(sparse_csr.toarray())"
   ]
  },
  {
   "cell_type": "code",
   "execution_count": 9,
   "id": "unable-diamond",
   "metadata": {},
   "outputs": [
    {
     "name": "stdout",
     "output_type": "stream",
     "text": [
      "  (0, 2)\t1\n",
      "  (0, 5)\t5\n",
      "  (1, 0)\t1\n",
      "  (1, 1)\t4\n",
      "  (1, 3)\t3\n",
      "  (1, 4)\t2\n",
      "  (1, 5)\t5\n",
      "\n",
      "\n",
      "  (0, 2)\t1\n",
      "  (0, 5)\t5\n",
      "  (1, 0)\t1\n",
      "  (1, 1)\t4\n",
      "  (1, 3)\t3\n",
      "  (1, 4)\t2\n",
      "  (1, 5)\t5\n"
     ]
    }
   ],
   "source": [
    "# 하지만 위 과정 필요없이 간단하게 이렇게만 해도 COO, CSR 변환 가능\n",
    "coo = sparse.coo_matrix(dense)\n",
    "csr = sparse.coo_matrix(dense)\n",
    "print(coo)\n",
    "print('\\n')\n",
    "print(csr)"
   ]
  },
  {
   "cell_type": "code",
   "execution_count": null,
   "id": "aware-english",
   "metadata": {},
   "outputs": [],
   "source": []
  }
 ],
 "metadata": {
  "kernelspec": {
   "display_name": "Python 3",
   "language": "python",
   "name": "python3"
  },
  "language_info": {
   "codemirror_mode": {
    "name": "ipython",
    "version": 3
   },
   "file_extension": ".py",
   "mimetype": "text/x-python",
   "name": "python",
   "nbconvert_exporter": "python",
   "pygments_lexer": "ipython3",
   "version": "3.6.9"
  }
 },
 "nbformat": 4,
 "nbformat_minor": 5
}
